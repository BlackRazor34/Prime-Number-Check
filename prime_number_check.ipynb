{
 "cells": [
  {
   "cell_type": "code",
   "execution_count": null,
   "id": "fca509b6",
   "metadata": {},
   "outputs": [],
   "source": [
    "def is_prime(number): \n",
    "    \n",
    "    if number <= 1:\n",
    "        return False\n",
    "    for i in range(2, int(number**0.5) + 1):\n",
    "        if number % i == 0:\n",
    "            return False\n",
    "    return True\n",
    "\n",
    "\n",
    "user_input = input(\"Bir sayı girin: \")\n",
    "\n",
    "try:\n",
    "    number = int(user_input)\n",
    "    \n",
    "    if is_prime(number):\n",
    "        print(f\"{number} bir asal sayıdır.\")\n",
    "    else:\n",
    "        print(f\"{number} bir asal sayı değildir.\")\n",
    "        \n",
    "except ValueError:\n",
    "    print(\"Geçersiz giriş. Lütfen geçerli bir tamsayı girin.\")"
   ]
  }
 ],
 "metadata": {
  "kernelspec": {
   "display_name": "Python 3 (ipykernel)",
   "language": "python",
   "name": "python3"
  },
  "language_info": {
   "codemirror_mode": {
    "name": "ipython",
    "version": 3
   },
   "file_extension": ".py",
   "mimetype": "text/x-python",
   "name": "python",
   "nbconvert_exporter": "python",
   "pygments_lexer": "ipython3",
   "version": "3.11.7"
  }
 },
 "nbformat": 4,
 "nbformat_minor": 5
}
